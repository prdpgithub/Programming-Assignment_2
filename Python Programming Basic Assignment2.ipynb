{
 "cells": [
  {
   "cell_type": "code",
   "execution_count": 11,
   "id": "5ce04cb4",
   "metadata": {},
   "outputs": [
    {
     "name": "stdout",
     "output_type": "stream",
     "text": [
      " value of Kilometers12\n",
      "values of miles 7.4564520000000005\n"
     ]
    }
   ],
   "source": [
    "#1.\tWrite a Python program to convert kilometers to miles?\n",
    "\n",
    "a= int(input(\" value of Kilometers\"))\n",
    "#conversion kilometers to miles\n",
    "b = 0.621371*a\n",
    "print(\"values of miles\",b)"
   ]
  },
  {
   "cell_type": "code",
   "execution_count": 14,
   "id": "d254657d",
   "metadata": {},
   "outputs": [
    {
     "name": "stdout",
     "output_type": "stream",
     "text": [
      " value of Celsius 100\n",
      "values of Fahrenheit 212.0\n"
     ]
    }
   ],
   "source": [
    "#2.\tWrite a Python program to convert Celsius to Fahrenheit?\n",
    "\n",
    "C= int(input(\" value of Celsius \"))\n",
    "#conversion Celsius to Fahrenheit\n",
    "F=(C*9/5)+32\n",
    "print(\"values of Fahrenheit\",F) "
   ]
  },
  {
   "cell_type": "code",
   "execution_count": 6,
   "id": "6510368d",
   "metadata": {},
   "outputs": [
    {
     "name": "stdout",
     "output_type": "stream",
     "text": [
      "Enter year: 2000\n",
      "Enter month: 12\n",
      "   December 2000\n",
      "Mo Tu We Th Fr Sa Su\n",
      "             1  2  3\n",
      " 4  5  6  7  8  9 10\n",
      "11 12 13 14 15 16 17\n",
      "18 19 20 21 22 23 24\n",
      "25 26 27 28 29 30 31\n",
      "\n"
     ]
    }
   ],
   "source": [
    "#3.\tWrite a Python program to display calendar?\n",
    "# importing calendar module\n",
    "import calendar\n",
    "\n",
    "yy = int(input(\"Enter year: \"))\n",
    "mm = int(input(\"Enter month: \"))\n",
    "\n",
    "# display the calendar\n",
    "print(calendar.month(yy, mm))\n"
   ]
  },
  {
   "cell_type": "code",
   "execution_count": 27,
   "id": "90a84a6e",
   "metadata": {},
   "outputs": [
    {
     "name": "stdout",
     "output_type": "stream",
     "text": [
      "value of a1\n",
      "value of b5\n",
      "value of c6\n",
      "values of x1 -2.0\n",
      "values of x2 -3.0\n"
     ]
    }
   ],
   "source": [
    "#4.\tWrite a Python program to solve quadratic equation?\n",
    "a = int(input(\"value of a\"))\n",
    "b = int(input(\"value of b\"))\n",
    "c = int(input(\"value of c\"))\n",
    "\n",
    "#solve quadratic equation\n",
    "x1= (-b+((b**2)-(4*a*c))**0.5)/(2*a)\n",
    "x2= (-b-((b**2)-(4*a*c))**0.5)/(2*a)\n",
    "\n",
    "print(\"values of x1\",x1)\n",
    "print(\"values of x2\",x2)"
   ]
  },
  {
   "cell_type": "code",
   "execution_count": 29,
   "id": "27b2855c",
   "metadata": {},
   "outputs": [
    {
     "name": "stdout",
     "output_type": "stream",
     "text": [
      " value of c sudh\n",
      " value of d prdp\n",
      "value of c after swapping prdp\n",
      "value of d after swapping sudh\n"
     ]
    }
   ],
   "source": [
    "#5.\tWrite a Python program to swap two variables without temp variable?\n",
    "\n",
    "c= input(\" value of c \")\n",
    "d= input(\" value of d \")\n",
    "# To Swap the values of two variables\n",
    "c,d = d,c\n",
    "print(\"value of c after swapping\",c)\n",
    "print(\"value of d after swapping\",d)"
   ]
  },
  {
   "cell_type": "code",
   "execution_count": null,
   "id": "3f29c7fe",
   "metadata": {},
   "outputs": [],
   "source": []
  },
  {
   "cell_type": "code",
   "execution_count": null,
   "id": "8763e614",
   "metadata": {},
   "outputs": [],
   "source": []
  }
 ],
 "metadata": {
  "kernelspec": {
   "display_name": "Python 3 (ipykernel)",
   "language": "python",
   "name": "python3"
  },
  "language_info": {
   "codemirror_mode": {
    "name": "ipython",
    "version": 3
   },
   "file_extension": ".py",
   "mimetype": "text/x-python",
   "name": "python",
   "nbconvert_exporter": "python",
   "pygments_lexer": "ipython3",
   "version": "3.9.7"
  }
 },
 "nbformat": 4,
 "nbformat_minor": 5
}
